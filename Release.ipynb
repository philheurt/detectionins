{
 "cells": [
  {
   "cell_type": "code",
   "execution_count": 1,
   "metadata": {
    "collapsed": true
   },
   "outputs": [],
   "source": [
    "%matplotlib inline\n",
    "import numpy as np\n",
    "import matplotlib.pyplot as plt\n",
    "import pandas as pd\n",
    "import sklearn as sk\n",
    "from LogisticRegression import LogisticRegression as LogisticRegressionBTS\n",
    "from sklearn.linear_model import LogisticRegression as LogisticRegressionSKL\n",
    "import CrossValidation as cv\n",
    "import utils as ut"
   ]
  },
  {
   "cell_type": "code",
   "execution_count": 6,
   "metadata": {
    "collapsed": true
   },
   "outputs": [],
   "source": [
    "train_fname = 'train.csv'\n",
    "test_fname = 'test.csv'"
   ]
  },
  {
   "cell_type": "code",
   "execution_count": 4,
   "metadata": {
    "collapsed": false
   },
   "outputs": [
    {
     "name": "stdout",
     "output_type": "stream",
     "text": [
      "Loading comments\n"
     ]
    }
   ],
   "source": [
    "data_train , y_train = ut.load_comments(train_fname)\n",
    "data_train = ut.process(data_train)\n",
    "X_train = ut.get_features(data_train)"
   ]
  },
  {
   "cell_type": "code",
   "execution_count": 2,
   "metadata": {
    "collapsed": false
   },
   "outputs": [],
   "source": [
    "toy = pd.read_csv('toy.csv')\n",
    "X = toy.values[:,:2]\n",
    "y = toy.values[:,2]\n",
    "y[y==0]=-1"
   ]
  },
  {
   "cell_type": "code",
   "execution_count": 3,
   "metadata": {
    "collapsed": false
   },
   "outputs": [
    {
     "data": {
      "text/plain": [
       "array([ 1.,  1.,  1., -1.,  1.,  1.,  1.,  1.,  1., -1., -1., -1., -1.,\n",
       "        1., -1.,  1.,  1.,  1., -1., -1., -1., -1.,  1.,  1.,  1.,  1.,\n",
       "       -1.,  1.,  1.,  1., -1., -1.,  1.,  1.,  1.,  1.,  1.,  1.,  1.,\n",
       "        1.,  1.,  1.,  1.,  1., -1., -1.,  1., -1., -1., -1., -1.,  1.,\n",
       "       -1., -1.,  1., -1.,  1.,  1.,  1.,  1., -1., -1., -1., -1., -1.,\n",
       "        1., -1., -1., -1., -1., -1., -1.,  1., -1., -1., -1., -1., -1.,\n",
       "       -1., -1.,  1., -1., -1., -1., -1., -1.,  1.,  1., -1.,  1., -1.,\n",
       "        1.,  1.,  1.,  1., -1.,  1., -1., -1.,  1.])"
      ]
     },
     "execution_count": 3,
     "metadata": {},
     "output_type": "execute_result"
    }
   ],
   "source": [
    "y"
   ]
  },
  {
   "cell_type": "code",
   "execution_count": 3,
   "metadata": {
    "collapsed": false
   },
   "outputs": [],
   "source": [
    "X,y, coef =sk.datasets.make_regression(n_samples=50, n_features=2, coef=True) "
   ]
  },
  {
   "cell_type": "code",
   "execution_count": 14,
   "metadata": {
    "collapsed": false
   },
   "outputs": [
    {
     "name": "stdout",
     "output_type": "stream",
     "text": [
      "Fitting...\n",
      "4.66541555503 [ 1.12341737  0.42468946  0.29889919]\n",
      "0.200908547324 [ 1.1684781   0.25248134  0.09589423]\n",
      "0.0400554073142 [ 1.17752997  0.24098903  0.07200303]\n",
      "0.0281445163749 [ 1.19119131  0.24563646  0.05156692]\n",
      "0.0350511257259 [ 1.21385775  0.27931787  0.04103945]\n",
      "0.0210082723146 [ 1.22756193  0.27396042  0.02284144]\n",
      "0.0148563153469 [ 1.23799498  0.28861473  0.02499945]\n",
      "0.0273504559132 [ 1.26259052  0.28879929  0.0070121 ]\n",
      "0.00962856709579 [ 1.26732068  0.29689328  0.01136533]\n",
      "[ 0.29689328  0.01136533] 1.26732067695\n"
     ]
    },
    {
     "data": {
      "text/plain": [
       "<logreg.LogisticRegression at 0x11832ae10>"
      ]
     },
     "execution_count": 14,
     "metadata": {},
     "output_type": "execute_result"
    }
   ],
   "source": [
    "import logreg as lg\n",
    "lo = lg.LogisticRegression(tol=1e-2)\n",
    "lo.fit(X,y)"
   ]
  },
  {
   "cell_type": "code",
   "execution_count": 15,
   "metadata": {
    "collapsed": false
   },
   "outputs": [
    {
     "name": "stdout",
     "output_type": "stream",
     "text": [
      "0.118357203254 0.772140534853\n"
     ]
    },
    {
     "data": {
      "text/plain": [
       "0.47666666666666668"
      ]
     },
     "execution_count": 15,
     "metadata": {},
     "output_type": "execute_result"
    }
   ],
   "source": [
    "lo.score(X,y)"
   ]
  },
  {
   "cell_type": "code",
   "execution_count": 7,
   "metadata": {
    "collapsed": false
   },
   "outputs": [
    {
     "data": {
      "text/plain": [
       "array([ 0.14013655,  0.2788316 ])"
      ]
     },
     "execution_count": 7,
     "metadata": {},
     "output_type": "execute_result"
    }
   ],
   "source": [
    "lo.coeff"
   ]
  },
  {
   "cell_type": "code",
   "execution_count": 20,
   "metadata": {
    "collapsed": false
   },
   "outputs": [
    {
     "data": {
      "text/plain": [
       "0.62833579050121802"
      ]
     },
     "execution_count": 20,
     "metadata": {},
     "output_type": "execute_result"
    }
   ],
   "source": [
    "lo.intercept"
   ]
  },
  {
   "cell_type": "code",
   "execution_count": 8,
   "metadata": {
    "collapsed": false
   },
   "outputs": [
    {
     "ename": "ValueError",
     "evalue": "Unknown label type: array([  5.71041308e+01,  -1.20341534e+01,   2.61533893e+01,\n         8.97946163e+01,   7.36532404e+01,  -1.72122668e+01,\n         8.90374545e+00,   1.50893021e+01,  -2.13071642e+00,\n         1.73832698e-02,   3.22318306e+01,  -4.77414690e+00,\n        -1.49646776e+01,   2.30325057e-01,   4.38696577e+01,\n         1.22027961e+01,  -9.19593259e+00,  -3.19399195e+01,\n         6.96197227e+01,  -2.66328418e+01,  -5.30746692e+01,\n        -4.19692165e+01,  -3.80268592e+01,   7.85388528e+01,\n         4.68077267e+01,   2.71491709e+01,   4.01890892e+01,\n        -1.86137941e+01,   5.97471274e+01,   4.82134087e+01,\n         1.08131270e+02,   2.49923235e+01,   1.18068546e+01,\n         1.48655565e+01,  -1.62880984e+01,  -1.19284163e+02,\n         7.27012107e+01,   7.56097610e+01,   7.68486361e+01,\n         3.15944870e+01,   1.14314146e+01,  -2.65913749e+01,\n        -6.69606863e+00,   1.20185632e+01,  -3.27793871e+00,\n         9.55071811e+00,  -8.94505333e+00,   2.10546191e+01,\n         4.84770026e+01,  -4.78851952e+01])",
     "output_type": "error",
     "traceback": [
      "\u001b[0;31m---------------------------------------------------------------------------\u001b[0m",
      "\u001b[0;31mValueError\u001b[0m                                Traceback (most recent call last)",
      "\u001b[0;32m<ipython-input-8-1a1732936c72>\u001b[0m in \u001b[0;36m<module>\u001b[0;34m()\u001b[0m\n\u001b[1;32m      1\u001b[0m \u001b[0mreglog\u001b[0m \u001b[0;34m=\u001b[0m \u001b[0mLogisticRegressionSKL\u001b[0m\u001b[0;34m(\u001b[0m\u001b[0;34m)\u001b[0m\u001b[0;34m\u001b[0m\u001b[0m\n\u001b[0;32m----> 2\u001b[0;31m \u001b[0mreglog\u001b[0m\u001b[0;34m.\u001b[0m\u001b[0mfit\u001b[0m\u001b[0;34m(\u001b[0m\u001b[0mX\u001b[0m\u001b[0;34m,\u001b[0m\u001b[0my\u001b[0m\u001b[0;34m)\u001b[0m\u001b[0;34m\u001b[0m\u001b[0m\n\u001b[0m\u001b[1;32m      3\u001b[0m \u001b[0mprint\u001b[0m \u001b[0;34m(\u001b[0m\u001b[0mreglog\u001b[0m\u001b[0;34m.\u001b[0m\u001b[0mcoef_\u001b[0m\u001b[0;34m,\u001b[0m\u001b[0mreglog\u001b[0m\u001b[0;34m.\u001b[0m\u001b[0mintercept_\u001b[0m\u001b[0;34m)\u001b[0m\u001b[0;34m\u001b[0m\u001b[0m\n",
      "\u001b[0;32m/Users/philippeheurtaux/anaconda/lib/python3.5/site-packages/sklearn/linear_model/logistic.py\u001b[0m in \u001b[0;36mfit\u001b[0;34m(self, X, y, sample_weight)\u001b[0m\n\u001b[1;32m   1141\u001b[0m         X, y = check_X_y(X, y, accept_sparse='csr', dtype=np.float64, \n\u001b[1;32m   1142\u001b[0m                          order=\"C\")\n\u001b[0;32m-> 1143\u001b[0;31m         \u001b[0mcheck_classification_targets\u001b[0m\u001b[0;34m(\u001b[0m\u001b[0my\u001b[0m\u001b[0;34m)\u001b[0m\u001b[0;34m\u001b[0m\u001b[0m\n\u001b[0m\u001b[1;32m   1144\u001b[0m         \u001b[0mself\u001b[0m\u001b[0;34m.\u001b[0m\u001b[0mclasses_\u001b[0m \u001b[0;34m=\u001b[0m \u001b[0mnp\u001b[0m\u001b[0;34m.\u001b[0m\u001b[0munique\u001b[0m\u001b[0;34m(\u001b[0m\u001b[0my\u001b[0m\u001b[0;34m)\u001b[0m\u001b[0;34m\u001b[0m\u001b[0m\n\u001b[1;32m   1145\u001b[0m         \u001b[0mn_samples\u001b[0m\u001b[0;34m,\u001b[0m \u001b[0mn_features\u001b[0m \u001b[0;34m=\u001b[0m \u001b[0mX\u001b[0m\u001b[0;34m.\u001b[0m\u001b[0mshape\u001b[0m\u001b[0;34m\u001b[0m\u001b[0m\n",
      "\u001b[0;32m/Users/philippeheurtaux/anaconda/lib/python3.5/site-packages/sklearn/utils/multiclass.py\u001b[0m in \u001b[0;36mcheck_classification_targets\u001b[0;34m(y)\u001b[0m\n\u001b[1;32m    171\u001b[0m     if y_type not in ['binary', 'multiclass', 'multiclass-multioutput', \n\u001b[1;32m    172\u001b[0m             'multilabel-indicator', 'multilabel-sequences']:\n\u001b[0;32m--> 173\u001b[0;31m         \u001b[0;32mraise\u001b[0m \u001b[0mValueError\u001b[0m\u001b[0;34m(\u001b[0m\u001b[0;34m\"Unknown label type: %r\"\u001b[0m \u001b[0;34m%\u001b[0m \u001b[0my\u001b[0m\u001b[0;34m)\u001b[0m\u001b[0;34m\u001b[0m\u001b[0m\n\u001b[0m\u001b[1;32m    174\u001b[0m \u001b[0;34m\u001b[0m\u001b[0m\n\u001b[1;32m    175\u001b[0m \u001b[0;34m\u001b[0m\u001b[0m\n",
      "\u001b[0;31mValueError\u001b[0m: Unknown label type: array([  5.71041308e+01,  -1.20341534e+01,   2.61533893e+01,\n         8.97946163e+01,   7.36532404e+01,  -1.72122668e+01,\n         8.90374545e+00,   1.50893021e+01,  -2.13071642e+00,\n         1.73832698e-02,   3.22318306e+01,  -4.77414690e+00,\n        -1.49646776e+01,   2.30325057e-01,   4.38696577e+01,\n         1.22027961e+01,  -9.19593259e+00,  -3.19399195e+01,\n         6.96197227e+01,  -2.66328418e+01,  -5.30746692e+01,\n        -4.19692165e+01,  -3.80268592e+01,   7.85388528e+01,\n         4.68077267e+01,   2.71491709e+01,   4.01890892e+01,\n        -1.86137941e+01,   5.97471274e+01,   4.82134087e+01,\n         1.08131270e+02,   2.49923235e+01,   1.18068546e+01,\n         1.48655565e+01,  -1.62880984e+01,  -1.19284163e+02,\n         7.27012107e+01,   7.56097610e+01,   7.68486361e+01,\n         3.15944870e+01,   1.14314146e+01,  -2.65913749e+01,\n        -6.69606863e+00,   1.20185632e+01,  -3.27793871e+00,\n         9.55071811e+00,  -8.94505333e+00,   2.10546191e+01,\n         4.84770026e+01,  -4.78851952e+01])"
     ]
    }
   ],
   "source": [
    "reglog = LogisticRegressionSKL()\n",
    "reglog.fit(X,y)\n",
    "print (reglog.coef_,reglog.intercept_)"
   ]
  },
  {
   "cell_type": "code",
   "execution_count": 8,
   "metadata": {
    "collapsed": false
   },
   "outputs": [
    {
     "ename": "ValueError",
     "evalue": "Using arbitrary long args with data is not supported due to ambiguity of arguments.\nUse multiple plotting calls instead.",
     "output_type": "error",
     "traceback": [
      "\u001b[0;31m---------------------------------------------------------------------------\u001b[0m",
      "\u001b[0;31mValueError\u001b[0m                                Traceback (most recent call last)",
      "\u001b[0;32m<ipython-input-8-38fe7eb7c0a3>\u001b[0m in \u001b[0;36m<module>\u001b[0;34m()\u001b[0m\n\u001b[1;32m      1\u001b[0m \u001b[0mplt\u001b[0m\u001b[0;34m.\u001b[0m\u001b[0mfigure\u001b[0m\u001b[0;34m(\u001b[0m\u001b[0mfigsize\u001b[0m\u001b[0;34m=\u001b[0m\u001b[0;34m(\u001b[0m\u001b[0;36m16\u001b[0m\u001b[0;34m,\u001b[0m\u001b[0;36m8\u001b[0m\u001b[0;34m)\u001b[0m\u001b[0;34m)\u001b[0m\u001b[0;34m\u001b[0m\u001b[0m\n\u001b[1;32m      2\u001b[0m \u001b[0max\u001b[0m\u001b[0;34m=\u001b[0m\u001b[0mplt\u001b[0m\u001b[0;34m.\u001b[0m\u001b[0mgca\u001b[0m\u001b[0;34m(\u001b[0m\u001b[0;34m)\u001b[0m\u001b[0;34m\u001b[0m\u001b[0m\n\u001b[0;32m----> 3\u001b[0;31m \u001b[0mplt\u001b[0m\u001b[0;34m.\u001b[0m\u001b[0mplot\u001b[0m\u001b[0;34m(\u001b[0m\u001b[0mdata\u001b[0m\u001b[0;34m=\u001b[0m\u001b[0mX\u001b[0m\u001b[0;34m[\u001b[0m\u001b[0my\u001b[0m\u001b[0;34m==\u001b[0m\u001b[0;34m-\u001b[0m\u001b[0;36m1\u001b[0m\u001b[0;34m,\u001b[0m\u001b[0;34m:\u001b[0m\u001b[0;34m]\u001b[0m\u001b[0;34m,\u001b[0m\u001b[0mkind\u001b[0m\u001b[0;34m=\u001b[0m\u001b[0;34m'scatter'\u001b[0m\u001b[0;34m,\u001b[0m\u001b[0mx\u001b[0m\u001b[0;34m=\u001b[0m\u001b[0;34m'var1'\u001b[0m\u001b[0;34m,\u001b[0m\u001b[0mz\u001b[0m\u001b[0;34m=\u001b[0m\u001b[0;34m'var2'\u001b[0m\u001b[0;34m,\u001b[0m\u001b[0mlabel\u001b[0m\u001b[0;34m=\u001b[0m\u001b[0;34m'Negative Example'\u001b[0m\u001b[0;34m,\u001b[0m\u001b[0mcolor\u001b[0m\u001b[0;34m=\u001b[0m\u001b[0;34m'#AA0000'\u001b[0m\u001b[0;34m)\u001b[0m\u001b[0;34m\u001b[0m\u001b[0m\n\u001b[0m\u001b[1;32m      4\u001b[0m \u001b[0mplt\u001b[0m\u001b[0;34m.\u001b[0m\u001b[0mplot\u001b[0m\u001b[0;34m(\u001b[0m\u001b[0mdata\u001b[0m\u001b[0;34m=\u001b[0m\u001b[0mX\u001b[0m\u001b[0;34m[\u001b[0m\u001b[0my\u001b[0m\u001b[0;34m==\u001b[0m\u001b[0;36m1\u001b[0m\u001b[0;34m,\u001b[0m\u001b[0;34m:\u001b[0m\u001b[0;34m]\u001b[0m\u001b[0;34m,\u001b[0m\u001b[0mkind\u001b[0m\u001b[0;34m=\u001b[0m\u001b[0;34m'scatter'\u001b[0m\u001b[0;34m,\u001b[0m\u001b[0mx\u001b[0m\u001b[0;34m=\u001b[0m\u001b[0;34m'var1'\u001b[0m\u001b[0;34m,\u001b[0m\u001b[0mz\u001b[0m\u001b[0;34m=\u001b[0m\u001b[0;34m'var2'\u001b[0m\u001b[0;34m,\u001b[0m\u001b[0mlabel\u001b[0m\u001b[0;34m=\u001b[0m\u001b[0;34m'Positive Example'\u001b[0m\u001b[0;34m,\u001b[0m\u001b[0mcolor\u001b[0m\u001b[0;34m=\u001b[0m\u001b[0;34m'#00AA00'\u001b[0m\u001b[0;34m)\u001b[0m\u001b[0;34m\u001b[0m\u001b[0m\n\u001b[1;32m      5\u001b[0m \u001b[0mplt\u001b[0m\u001b[0;34m.\u001b[0m\u001b[0mlegend\u001b[0m\u001b[0;34m(\u001b[0m\u001b[0mloc\u001b[0m\u001b[0;34m=\u001b[0m\u001b[0;34m'best'\u001b[0m\u001b[0;34m)\u001b[0m\u001b[0;34m\u001b[0m\u001b[0m\n",
      "\u001b[0;32m/Users/philippeheurtaux/anaconda/lib/python3.5/site-packages/matplotlib/pyplot.py\u001b[0m in \u001b[0;36mplot\u001b[0;34m(*args, **kwargs)\u001b[0m\n\u001b[1;32m   3152\u001b[0m         \u001b[0max\u001b[0m\u001b[0;34m.\u001b[0m\u001b[0mhold\u001b[0m\u001b[0;34m(\u001b[0m\u001b[0mhold\u001b[0m\u001b[0;34m)\u001b[0m\u001b[0;34m\u001b[0m\u001b[0m\n\u001b[1;32m   3153\u001b[0m     \u001b[0;32mtry\u001b[0m\u001b[0;34m:\u001b[0m\u001b[0;34m\u001b[0m\u001b[0m\n\u001b[0;32m-> 3154\u001b[0;31m         \u001b[0mret\u001b[0m \u001b[0;34m=\u001b[0m \u001b[0max\u001b[0m\u001b[0;34m.\u001b[0m\u001b[0mplot\u001b[0m\u001b[0;34m(\u001b[0m\u001b[0;34m*\u001b[0m\u001b[0margs\u001b[0m\u001b[0;34m,\u001b[0m \u001b[0;34m**\u001b[0m\u001b[0mkwargs\u001b[0m\u001b[0;34m)\u001b[0m\u001b[0;34m\u001b[0m\u001b[0m\n\u001b[0m\u001b[1;32m   3155\u001b[0m     \u001b[0;32mfinally\u001b[0m\u001b[0;34m:\u001b[0m\u001b[0;34m\u001b[0m\u001b[0m\n\u001b[1;32m   3156\u001b[0m         \u001b[0max\u001b[0m\u001b[0;34m.\u001b[0m\u001b[0mhold\u001b[0m\u001b[0;34m(\u001b[0m\u001b[0mwashold\u001b[0m\u001b[0;34m)\u001b[0m\u001b[0;34m\u001b[0m\u001b[0m\n",
      "\u001b[0;32m/Users/philippeheurtaux/anaconda/lib/python3.5/site-packages/matplotlib/__init__.py\u001b[0m in \u001b[0;36minner\u001b[0;34m(ax, *args, **kwargs)\u001b[0m\n\u001b[1;32m   1748\u001b[0m                     \u001b[0;31m# update the information about replace names and\u001b[0m\u001b[0;34m\u001b[0m\u001b[0;34m\u001b[0m\u001b[0m\n\u001b[1;32m   1749\u001b[0m                     \u001b[0;31m# label position\u001b[0m\u001b[0;34m\u001b[0m\u001b[0;34m\u001b[0m\u001b[0m\n\u001b[0;32m-> 1750\u001b[0;31m                     \u001b[0m_arg_names\u001b[0m \u001b[0;34m=\u001b[0m \u001b[0mpositional_parameter_names\u001b[0m\u001b[0;34m(\u001b[0m\u001b[0margs\u001b[0m\u001b[0;34m,\u001b[0m \u001b[0mdata\u001b[0m\u001b[0;34m)\u001b[0m\u001b[0;34m\u001b[0m\u001b[0m\n\u001b[0m\u001b[1;32m   1751\u001b[0m                     if (label_namer and  # we actually want a label here ...\n\u001b[1;32m   1752\u001b[0m                             \u001b[0m_arg_names\u001b[0m \u001b[0;32mand\u001b[0m  \u001b[0;31m# and we can find a label in *args\u001b[0m\u001b[0;34m\u001b[0m\u001b[0m\n",
      "\u001b[0;32m/Users/philippeheurtaux/anaconda/lib/python3.5/site-packages/matplotlib/axes/_axes.py\u001b[0m in \u001b[0;36m_plot_args_replacer\u001b[0;34m(args, data)\u001b[0m\n\u001b[1;32m     70\u001b[0m         \u001b[0;32mreturn\u001b[0m \u001b[0;34m[\u001b[0m\u001b[0;34m\"x\"\u001b[0m\u001b[0;34m,\u001b[0m \u001b[0;34m\"y\"\u001b[0m\u001b[0;34m,\u001b[0m \u001b[0;34m\"c\"\u001b[0m\u001b[0;34m]\u001b[0m\u001b[0;34m\u001b[0m\u001b[0m\n\u001b[1;32m     71\u001b[0m     \u001b[0;32melse\u001b[0m\u001b[0;34m:\u001b[0m\u001b[0;34m\u001b[0m\u001b[0m\n\u001b[0;32m---> 72\u001b[0;31m         raise ValueError(\"Using arbitrary long args with data is not \"\n\u001b[0m\u001b[1;32m     73\u001b[0m                          \u001b[0;34m\"supported due to ambiguity of arguments.\\nUse \"\u001b[0m\u001b[0;34m\u001b[0m\u001b[0m\n\u001b[1;32m     74\u001b[0m                          \"multiple plotting calls instead.\")\n",
      "\u001b[0;31mValueError\u001b[0m: Using arbitrary long args with data is not supported due to ambiguity of arguments.\nUse multiple plotting calls instead."
     ]
    },
    {
     "data": {
      "image/png": "[encoded data removed]",
      "text/plain": [
       "<matplotlib.figure.Figure at 0x1160b0908>"
      ]
     },
     "metadata": {},
     "output_type": "display_data"
    }
   ],
   "source": [
    "plt.figure(figsize=(16,8))\n",
    "ax=plt.gca()\n",
    "plt.plot(data=X[y==-1,:],kind='scatter',x='var1',z='var2',label='Negative Example',color='#AA0000')\n",
    "plt.plot(data=X[y==1,:],kind='scatter',x='var1',z='var2',label='Positive Example',color='#00AA00')\n",
    "plt.legend(loc='best')\n",
    "plt.title('Toy Data')\n",
    "x = np.linspace(-10,15)\n",
    "plt.plot(x, x*lo.coeff[0]+lo.intercept);\n",
    "plt.show()"
   ]
  },
  {
   "cell_type": "markdown",
   "metadata": {
    "collapsed": false
   },
   "source": [
    "## Génération de data"
   ]
  },
  {
   "cell_type": "code",
   "execution_count": 2,
   "metadata": {
    "collapsed": true
   },
   "outputs": [],
   "source": [
    "n = 500\n",
    "X,y = sk.datasets.make_blobs(n_samples=n, n_features=2, centers=2, cluster_std=1.0, center_box=(-10.0, 10.0), shuffle=True, random_state=None)"
   ]
  },
  {
   "cell_type": "code",
   "execution_count": 3,
   "metadata": {
    "collapsed": false
   },
   "outputs": [],
   "source": [
    "y[y==0]=-1"
   ]
  },
  {
   "cell_type": "code",
   "execution_count": 4,
   "metadata": {
    "collapsed": false
   },
   "outputs": [
    {
     "data": {
      "text/plain": [
       "array([-1, -1,  1,  1, -1,  1,  1,  1, -1,  1, -1,  1,  1,  1, -1,  1,  1,\n",
       "        1, -1,  1,  1, -1, -1,  1, -1, -1, -1, -1,  1, -1, -1, -1, -1,  1,\n",
       "       -1, -1, -1,  1,  1,  1, -1,  1,  1,  1,  1,  1,  1, -1, -1, -1, -1,\n",
       "        1, -1,  1, -1, -1, -1, -1,  1,  1, -1, -1, -1,  1, -1, -1,  1, -1,\n",
       "        1, -1, -1,  1,  1, -1, -1, -1,  1,  1, -1, -1, -1, -1,  1, -1, -1,\n",
       "        1,  1, -1, -1, -1,  1, -1,  1,  1, -1,  1,  1, -1,  1,  1, -1,  1,\n",
       "       -1,  1, -1, -1, -1, -1,  1, -1, -1, -1, -1,  1, -1, -1,  1, -1,  1,\n",
       "       -1,  1, -1, -1, -1, -1, -1,  1, -1,  1,  1, -1, -1,  1, -1,  1,  1,\n",
       "        1, -1, -1, -1, -1,  1,  1,  1, -1,  1,  1,  1,  1,  1,  1,  1,  1,\n",
       "        1,  1,  1, -1, -1,  1, -1,  1, -1, -1, -1, -1,  1, -1,  1,  1, -1,\n",
       "       -1, -1,  1,  1, -1, -1,  1,  1, -1, -1, -1, -1, -1,  1,  1,  1, -1,\n",
       "        1,  1,  1,  1, -1,  1, -1, -1,  1, -1,  1, -1, -1, -1,  1, -1,  1,\n",
       "        1,  1,  1,  1,  1,  1,  1, -1, -1,  1, -1,  1, -1,  1, -1,  1, -1,\n",
       "       -1,  1, -1, -1,  1,  1,  1, -1, -1, -1,  1, -1, -1, -1, -1,  1, -1,\n",
       "       -1,  1,  1,  1, -1,  1, -1, -1,  1,  1,  1,  1, -1, -1, -1,  1,  1,\n",
       "       -1, -1,  1, -1, -1, -1, -1, -1,  1, -1, -1,  1,  1, -1,  1, -1,  1,\n",
       "        1, -1, -1,  1,  1, -1,  1, -1, -1,  1, -1,  1, -1, -1, -1,  1,  1,\n",
       "       -1,  1,  1,  1,  1, -1, -1,  1, -1, -1, -1,  1, -1, -1,  1, -1, -1,\n",
       "       -1, -1,  1, -1,  1, -1,  1,  1,  1, -1, -1, -1,  1,  1, -1, -1,  1,\n",
       "        1,  1,  1,  1,  1,  1, -1, -1,  1,  1, -1,  1,  1,  1, -1,  1, -1,\n",
       "        1, -1,  1,  1, -1, -1, -1,  1,  1, -1, -1,  1, -1,  1,  1,  1,  1,\n",
       "       -1,  1,  1, -1,  1,  1,  1,  1, -1,  1, -1,  1,  1,  1,  1, -1,  1,\n",
       "       -1,  1, -1, -1,  1, -1, -1,  1, -1,  1, -1, -1, -1,  1,  1,  1,  1,\n",
       "        1, -1,  1, -1,  1,  1, -1,  1, -1,  1,  1, -1,  1, -1,  1, -1,  1,\n",
       "        1,  1, -1, -1, -1,  1, -1, -1, -1, -1,  1,  1, -1,  1, -1, -1, -1,\n",
       "       -1, -1, -1,  1, -1,  1, -1, -1, -1,  1,  1, -1,  1,  1,  1, -1,  1,\n",
       "       -1, -1, -1, -1, -1,  1, -1,  1, -1,  1,  1,  1,  1, -1, -1,  1, -1,\n",
       "        1,  1,  1, -1,  1,  1,  1,  1,  1,  1, -1,  1, -1,  1,  1, -1,  1,\n",
       "        1, -1,  1, -1, -1,  1, -1, -1, -1, -1,  1,  1, -1,  1,  1,  1, -1,\n",
       "        1, -1, -1,  1, -1,  1,  1])"
      ]
     },
     "execution_count": 4,
     "metadata": {},
     "output_type": "execute_result"
    }
   ],
   "source": [
    "y"
   ]
  },
  {
   "cell_type": "code",
   "execution_count": 5,
   "metadata": {
    "collapsed": false
   },
   "outputs": [
    {
     "name": "stdout",
     "output_type": "stream",
     "text": [
      "Fitting...\n",
      "3.77298621146 [ 0.97495962  0.43636615 -0.84383013]\n",
      "0.720308284539 [ 0.9498899   0.1958564  -0.86572721]\n",
      "0.380798208385 [ 0.93628601  0.04723085 -0.71491392]\n",
      "0.0506496504663 [ 0.91631535 -0.12087527 -0.45695839]\n",
      "0.0109721589536 [ 0.90749932 -0.15509579 -0.41317669]\n",
      "0.00152436958256 [ 0.90044725 -0.16918481 -0.39225953]\n",
      "0.000549136808424 [ 0.89442011 -0.17318775 -0.38570795]\n",
      "0.000504985045527 [ 0.88315158 -0.17416706 -0.38265094]\n",
      "0.000566440766892 [ 0.86152753 -0.16930815 -0.38636263]\n",
      "0.000955577029301 [ 0.83937319 -0.17267967 -0.37834648]\n",
      "0.000647566953947 [ 0.82947521 -0.16514502 -0.38751998]\n",
      "0.000515236137988 [ 0.81851941 -0.1681281  -0.3817786 ]\n",
      "0.000796900160349 [ 0.79820861 -0.16087531 -0.38885708]\n",
      "0.000561394755567 [ 0.78733436 -0.16547006 -0.38111989]\n",
      "0.00111105703781 [ 0.76775653 -0.15615769 -0.39067934]\n",
      "0.000432779120098 [ 0.76231093 -0.15969768 -0.38545871]\n",
      "0.000408458224872 [ 0.75216286 -0.16022139 -0.38323672]\n",
      "0.000447877562034 [ 0.73259124 -0.15612058 -0.38616817]\n",
      "0.000726185312594 [ 0.71261016 -0.15871486 -0.37969486]\n",
      "0.000524008092 [ 0.70363534 -0.15223138 -0.38737363]\n",
      "0.000427296669006 [ 0.6937265  -0.15494585 -0.38232898]\n",
      "0.000706485682463 [ 0.67541649 -0.14801826 -0.3889659 ]\n",
      "0.000498402727155 [ 0.66551199 -0.15281871 -0.38151755]\n",
      "0.000409431705715 [ 0.65674353 -0.14792523 -0.38639287]\n",
      "0.000745479864141 [ 0.63788287 -0.15156686 -0.38003317]\n",
      "0.000524641777557 [ 0.62965695 -0.14377797 -0.38765139]\n",
      "0.000411596978941 [ 0.6202053  -0.14784896 -0.38262607]\n",
      "0.000842875150682 [ 0.6033261  -0.13870616 -0.38919107]\n",
      "0.000318729954785 [ 0.59849426 -0.1427502  -0.38558846]\n",
      "0.000305847306145 [ 0.58970044 -0.1430576  -0.38408623]\n",
      "0.000331347582315 [ 0.5727118  -0.13951883 -0.3862566 ]\n",
      "0.00183720451263 [ 0.53797155 -0.14444992 -0.37655147]\n",
      "0.000286000605666 [ 0.53461055 -0.13750503 -0.38398769]\n",
      "0.000273174064629 [ 0.52660342 -0.13539122 -0.38569587]\n",
      "0.000310085204926 [ 0.51023464 -0.13553749 -0.38341206]\n",
      "0.000564387555248 [ 0.49484096 -0.12929115 -0.38925184]\n",
      "0.000407538621479 [ 0.48639612 -0.13408661 -0.38241188]\n",
      "0.000328824346192 [ 0.4790972  -0.12912341 -0.38730851]\n",
      "0.000798951151147 [ 0.46300382 -0.13380232 -0.38038499]\n",
      "0.000236906873019 [ 0.45966565 -0.12937598 -0.38476661]\n",
      "0.00023020385653 [ 0.45221004 -0.12778366 -0.38581785]\n",
      "0.00024214427719 [ 0.43710557 -0.12742736 -0.384428  ]\n",
      "0.000986881948438 [ 0.40833306 -0.11820761 -0.39189231]\n",
      "0.000221518234392 [ 0.40426598 -0.12238733 -0.38663219]\n",
      "0.000210617728413 [ 0.39702496 -0.12290268 -0.38499462]\n",
      "0.000257198274857 [ 0.38315719 -0.11950264 -0.38759124]\n",
      "0.000604990163753 [ 0.3687519  -0.12292085 -0.38142668]\n",
      "0.00019046414061 [ 0.36570085 -0.11940783 -0.38544684]\n",
      "0.00018585427865 [ 0.35897645 -0.11811165 -0.3862944 ]\n",
      "0.000192960611173 [ 0.34540074 -0.11761268 -0.38515185]\n",
      "0.000714100256264 [ 0.31941905 -0.11015602 -0.39156997]\n",
      "0.00017471840441 [ 0.31581447 -0.11335018 -0.3869401 ]\n",
      "0.000168347950306 [ 0.30932292 -0.11357444 -0.38571983]\n",
      "0.000195819756282 [ 0.29680671 -0.11083836 -0.38777075]\n",
      "0.000416139533389 [ 0.28391894 -0.11317216 -0.38284342]\n",
      "0.000153146117644 [ 0.28112529 -0.11045642 -0.38613416]\n",
      "0.000149971943531 [ 0.2750594  -0.10941319 -0.38676918]\n",
      "0.000152763600579 [ 0.26285828 -0.10879529 -0.38591901]\n",
      "0.000464636848383 [ 0.23938442 -0.10290101 -0.39094787]\n",
      "0.000138108331146 [ 0.23619865 -0.10521408 -0.38726814]\n",
      "0.00013446562267 [ 0.23038039 -0.10518955 -0.38644694]\n",
      "0.000146724773824 [ 0.21907775 -0.10305689 -0.38791922]\n",
      "0.000919062598864 [ 0.19604985 -0.10566763 -0.38086237]\n",
      "0.000121728816806 [ 0.19380115 -0.10136959 -0.38668573]\n",
      "0.000118779004688 [ 0.18844376 -0.10033267 -0.38749528]\n",
      "0.000128407384118 [ 0.17761317 -0.10000049 -0.38632613]\n",
      "0.000698912156379 [ 0.15697448 -0.09356387 -0.39312642]\n",
      "0.000111795451719 [ 0.15403629 -0.09659111 -0.3880387 ]\n",
      "0.000108010966222 [ 0.14886325 -0.09673454 -0.38695799]\n",
      "0.000133693457782 [ 0.1388921  -0.09453449 -0.38889369]\n",
      "0.000345310064874 [ 0.1285867  -0.09658421 -0.38406763]\n",
      "9.70730198387e-05 [ 0.12639041 -0.09420862 -0.38740151]\n",
      "9.52341039531e-05 [ 0.12154623 -0.09346108 -0.38789484]\n",
      "9.68894245403e-05 [ 0.11182857 -0.09287075 -0.38722208]\n",
      "0.000300930573106 [ 0.09307525 -0.08859618 -0.39141716]\n",
      "8.67333207242e-05 [ 0.09055574 -0.090193   -0.38826908]\n",
      "8.49103858975e-05 [ 0.085935   -0.09000043 -0.38772591]\n",
      "8.99312482163e-05 [ 0.07689777 -0.08854369 -0.38878271]\n",
      "0.000458239334679 [ 0.05865143 -0.08950707 -0.38369665]\n",
      "7.63931291e-05 [ 0.05677191 -0.08690586 -0.3879793 ]\n",
      "7.49017839252e-05 [ 0.052476   -0.08630384 -0.38850936]\n",
      "7.74693830986e-05 [ 0.04387408 -0.08571199 -0.38776208]\n",
      "0.000297853283848 [ 0.0272431  -0.08220927 -0.39234674]\n",
      "6.83000770323e-05 [ 0.02502066 -0.08346157 -0.38886704]\n",
      "6.68059681042e-05 [ 0.02093881 -0.08317257 -0.38829256]\n",
      "7.19518520842e-05 [ 0.01291886 -0.08204167 -0.38939141]\n",
      "0.000420714538788 [-0.00317988 -0.08218036 -0.38404178]\n",
      "6.02253105313e-05 [-0.0048877  -0.08036471 -0.38852301]\n",
      "5.89037886231e-05 [-0.00871349 -0.08003578 -0.3890811 ]\n",
      "6.14533293482e-05 [-0.01630473 -0.07921894 -0.38830026]\n",
      "0.000254582927776 [-0.03117912 -0.07754691 -0.3929661 ]\n",
      "5.42650912807e-05 [-0.03304731 -0.07762766 -0.38944263]\n",
      "5.26888175238e-05 [-0.03663042 -0.07704047 -0.3888239 ]\n",
      "5.75915969942e-05 [-0.04378406 -0.07652342 -0.38994052]\n",
      "0.000351882139933 [-0.05780847 -0.07427311 -0.38459089]\n",
      "4.90951035719e-05 [-0.05950293 -0.07445291 -0.38895999]\n",
      "4.71004332139e-05 [-0.06293363 -0.07457945 -0.38965859]\n",
      "5.30260500043e-05 [-0.06959998 -0.07325579 -0.38870564]\n",
      "9.67997607591e-05 [-0.07633516 -0.07398576 -0.39137597]\n",
      "7.26866943729e-05 [-0.07946166 -0.07209191 -0.38808381]\n",
      "5.98857701758e-05 [-0.08275584 -0.0726438  -0.39073248]\n",
      "5.25567799733e-05 [-0.08593403 -0.07187218 -0.38866483]\n",
      "0.00012097304757 [-0.09228158 -0.07148264 -0.39214529]\n",
      "4.00405701252e-05 [-0.09386718 -0.0713168  -0.38990494]\n",
      "3.9040306213e-05 [-0.09696212 -0.07077144 -0.38953878]\n",
      "4.02285267687e-05 [-0.1031616  -0.07039608 -0.39022132]\n",
      "0.000142148366838 [-0.11524015 -0.06803686 -0.38714613]\n",
      "3.62068302258e-05 [-0.11675569 -0.06855678 -0.38965951]\n",
      "3.49156555961e-05 [-0.1197248  -0.06866195 -0.39013389]\n",
      "3.7337190253e-05 [-0.12549164 -0.06751987 -0.38953819]\n",
      "0.000172483696141 [-0.13715987 -0.06880192 -0.39293782]\n",
      "3.42541750948e-05 [-0.1383978  -0.06698048 -0.39050263]\n",
      "3.19462333488e-05 [-0.14109206 -0.06600206 -0.38991337]\n",
      "3.86279928207e-05 [-0.14665405 -0.06636495 -0.39085078]\n",
      "8.14981009427e-05 [-0.15184099 -0.06364664 -0.38876884]\n",
      "2.93861145168e-05 [-0.15328291 -0.06476579 -0.39009624]\n",
      "2.83033024451e-05 [-0.15596358 -0.06491628 -0.39046754]\n",
      "3.00122454518e-05 [-0.16114807 -0.06379964 -0.39004617]\n",
      "0.000126473716659 [-0.17171371 -0.06542919 -0.39244633]\n",
      "2.7852722216e-05 [-0.17278392 -0.06340541 -0.39081429]\n",
      "2.59032731694e-05 [-0.17520607 -0.06247954 -0.39032529]\n",
      "3.10730344472e-05 [-0.18022372 -0.06287123 -0.39108232]\n",
      "6.35267057862e-05 [-0.18487693 -0.06025738 -0.38947347]\n",
      "2.3879799784e-05 [-0.18618885 -0.06137489 -0.39047371]\n",
      "2.2970091655e-05 [-0.18860535 -0.06152697 -0.39080133]\n",
      "2.43204713816e-05 [-0.19327374 -0.06050262 -0.39044498]\n",
      "0.000100477155062 [-0.20280137 -0.06205614 -0.392468  ]\n",
      "2.26560682602e-05 [-0.20375814 -0.06017063 -0.39112291]\n",
      "2.1016988218e-05 [-0.20593901 -0.05932387 -0.3906861 ]\n",
      "2.50998483762e-05 [-0.2104602  -0.05968611 -0.39135292]\n",
      "5.03738456395e-05 [-0.21465092 -0.05731975 -0.38996079]\n",
      "1.94029230272e-05 [-0.21583316 -0.05832831 -0.39081722]\n",
      "1.86431861565e-05 [-0.21801075 -0.05847193 -0.3911142 ]\n",
      "1.97090869054e-05 [-0.22221633 -0.05754653 -0.39079813]\n",
      "7.99294649369e-05 [-0.23079965 -0.05894601 -0.39258823]\n",
      "1.84156196846e-05 [-0.23166233 -0.05725417 -0.39140966]\n",
      "1.70497244176e-05 [-0.23362681 -0.0564865  -0.39101545]\n",
      "2.02588904568e-05 [-0.2376998  -0.05681102 -0.39161138]\n",
      "3.98962540181e-05 [-0.24147727 -0.05469536 -0.39038107]\n",
      "1.57601985464e-05 [-0.2425407  -0.05558796 -0.39113332]\n",
      "1.5130748408e-05 [-0.24450285 -0.05572045 -0.39140254]\n",
      "1.59625890858e-05 [-0.24829217 -0.05488825 -0.39112101]\n",
      "6.32776187924e-05 [-0.25602333 -0.0561305  -0.39271359]\n",
      "1.49531618678e-05 [-0.25680269 -0.05462599 -0.39167249]\n",
      "1.38271162317e-05 [-0.25857269 -0.05393339 -0.39131796]\n",
      "1.63277289735e-05 [-0.26224178 -0.05422008 -0.39184971]\n",
      "3.14921285121e-05 [-0.2656478  -0.05233723 -0.39076271]\n",
      "1.27958186853e-05 [-0.26660397 -0.05312237 -0.39142419]\n",
      "1.22790543292e-05 [-0.26837191 -0.05324245 -0.39166698]\n",
      "1.29184294573e-05 [-0.27178659 -0.05249636 -0.39141737]\n",
      "4.97726394313e-05 [-0.27874971 -0.05358897 -0.39282978]\n",
      "1.21268878064e-05 [-0.27945444 -0.05225753 -0.39191249]\n",
      "1.12094791156e-05 [-0.28104959 -0.0516356  -0.39159557]\n",
      "1.31367422152e-05 [-0.28435471 -0.05188552 -0.39206796]\n",
      "2.47519387365e-05 [-0.28742659 -0.05021649 -0.3911116 ]\n",
      "1.60061866373e-05 [-0.28914558 -0.05159077 -0.39227108]\n",
      "1.22383751286e-05 [-0.29061327 -0.05043732 -0.39155204]\n",
      "2.2591962422e-05 [-0.29383132 -0.05139249 -0.392537  ]\n",
      "1.46603016324e-05 [-0.29521881 -0.04978283 -0.39147311]\n",
      "1.13382728415e-05 [-0.29681869 -0.05055631 -0.39218528]\n",
      "2.05268750899e-05 [-0.29970669 -0.04905346 -0.39132554]\n",
      "1.35054914511e-05 [-0.30131158 -0.05026433 -0.3923695 ]\n",
      "1.0510002421e-05 [-0.30269423 -0.0492406  -0.39172404]\n",
      "1.84717496336e-05 [-0.30570466 -0.050051   -0.39261319]\n",
      "1.22840279491e-05 [-0.30701695 -0.04864707 -0.39165154]\n",
      "9.70730124742e-06 [-0.30850981 -0.04929359 -0.392303  ]\n",
      "1.66062404896e-05 [-0.31123172 -0.04800514 -0.39150402]\n",
      "1.1271469027e-05 [-0.31272101 -0.04898503 -0.39249062]\n",
      "9.01121715384e-06 [-0.31403141 -0.04814921 -0.39185649]\n",
      "1.51524342287e-05 [-0.31683349 -0.0487058  -0.39277833]\n",
      "1.05649865214e-05 [-0.31809477 -0.04766258 -0.39172524]\n",
      "8.65342777567e-06 [-0.31946877 -0.04803283 -0.39251027]\n",
      "1.65606841822e-05 [-0.32207044 -0.04724578 -0.39138543]\n",
      "6.97799858861e-06 [-0.32273466 -0.04740661 -0.39213908]\n",
      "6.74843284364e-06 [-0.3240457  -0.04745194 -0.39229277]\n",
      "6.88061331736e-06 [-0.32659278 -0.04696279 -0.39214601]\n",
      "1.89513578813e-05 [-0.33174169 -0.04745243 -0.39302433]\n",
      "6.45617506468e-06 [-0.33228946 -0.04669957 -0.39246076]\n",
      "6.08982145309e-06 [-0.33348295 -0.04630515 -0.3922762 ]\n",
      "6.63965336973e-06 [-0.33593298 -0.046395   -0.39255743]\n",
      "3.34467761631e-05 [-0.34054902 -0.04437457 -0.3914764 ]\n",
      "6.24843703298e-06 [-0.34122468 -0.04537403 -0.39227326]\n",
      "5.60606229675e-06 [-0.34240854 -0.04564127 -0.39257189]\n",
      "6.93726195803e-06 [-0.3446401  -0.04492209 -0.39224179]\n",
      "1.43333331215e-05 [-0.34698389 -0.04578553 -0.3930775 ]\n",
      "5.21417713278e-06 [-0.34747757 -0.04511353 -0.39262969]\n",
      "4.93256227739e-06 [-0.34855409 -0.04476771 -0.39247141]\n",
      "5.31822744111e-06 [-0.35076079 -0.04483485 -0.39271335]\n",
      "2.47247036404e-05 [-0.3549273  -0.04308134 -0.39179774]\n",
      "5.01537835624e-06 [-0.35553154 -0.04393287 -0.39247235]\n",
      "4.52612347367e-06 [-0.35659712 -0.04415978 -0.39273098]\n",
      "5.48495315697e-06 [-0.35861028 -0.04353215 -0.39244922]\n",
      "1.08386470822e-05 [-0.36071785 -0.04426076 -0.39316494]\n",
      "4.21087158046e-06 [-0.36116561 -0.04368477 -0.39278394]\n",
      "3.99574974204e-06 [-0.36213676 -0.04338266 -0.39264857]\n",
      "4.26175211117e-06 [-0.36412427 -0.04342975 -0.39285669]\n",
      "1.82145561605e-05 [-0.3678856  -0.0419142  -0.39208047]\n",
      "4.02399619817e-06 [-0.36842565 -0.04263451 -0.39265311]\n",
      "3.65463595734e-06 [-0.36938473 -0.04282544 -0.39287608]\n",
      "4.33764891929e-06 [-0.371201   -0.04227906 -0.39263674]\n",
      "8.18232631803e-06 [-0.37309611 -0.04288987 -0.39324756]\n",
      "5.07790988743e-06 [-0.3739084  -0.04190583 -0.39260147]\n",
      "3.86580020938e-06 [-0.37484868 -0.04236543 -0.39301875]\n",
      "6.6713291367e-06 [-0.37654803 -0.04150151 -0.39253745]\n",
      "4.38546581348e-06 [-0.37748727 -0.04217639 -0.39311209]\n",
      "3.4776540563e-06 [-0.37830383 -0.04161508 -0.39277367]\n",
      "5.49229451039e-06 [-0.38006635 -0.04202254 -0.39322661]\n",
      "3.81153061182e-06 [-0.38084602 -0.04128575 -0.39275507]\n",
      "7.69741930219e-06 [-0.38258844 -0.04191444 -0.39337169]\n",
      "2.88746831926e-06 [-0.38295716 -0.04142684 -0.393044  ]\n",
      "2.72907984135e-06 [-0.38375829 -0.04116937 -0.39292663]\n",
      "2.92679264628e-06 [-0.38540003 -0.04121623 -0.39310428]\n",
      "1.29589440379e-05 [-0.38850307 -0.03993512 -0.39244317]\n",
      "2.77622350891e-06 [-0.3889505  -0.04054731 -0.39292791]\n",
      "2.50143200194e-06 [-0.3897434  -0.04071602 -0.39312001]\n",
      "2.99860513962e-06 [-0.39124216 -0.04025432 -0.39291511]\n",
      "5.74907320939e-06 [-0.39280874 -0.04077897 -0.39343391]\n",
      "3.50270055928e-06 [-0.39347784 -0.0399477  -0.39288749]\n",
      "2.64174914624e-06 [-0.39425485 -0.04033462 -0.39323708]\n",
      "4.55224029299e-06 [-0.3956578  -0.03961762 -0.39283783]\n",
      "2.9738969703e-06 [-0.39643333 -0.04017578 -0.39331225]\n",
      "2.35876100101e-06 [-0.39710794 -0.03971541 -0.39303579]\n",
      "3.66663115371e-06 [-0.39856251 -0.04004402 -0.39340322]\n",
      "2.55805311717e-06 [-0.39920744 -0.03944692 -0.3930235 ]\n",
      "5.0168287552e-06 [-0.40064437 -0.039947   -0.39351665]\n",
      "1.96302255062e-06 [-0.40095001 -0.03955652 -0.39325654]\n",
      "1.85789502398e-06 [-0.40161188 -0.03934723 -0.39316226]\n",
      "1.97874025049e-06 [-0.40296703 -0.03938051 -0.39330494]\n",
      "8.27061604982e-06 [-0.40553216 -0.03835077 -0.39278081]\n",
      "1.88043440649e-06 [-0.40589955 -0.03883498 -0.39316485]\n",
      "1.69944484961e-06 [-0.40655381 -0.03896934 -0.39331975]\n",
      "2.00928321198e-06 [-0.40779226 -0.0385963  -0.3931569 ]\n",
      "3.72649974279e-06 [-0.40908393 -0.039009   -0.39356991]\n",
      "2.30351736699e-06 [-0.40963891 -0.03834795 -0.39313789]\n",
      "1.76460660952e-06 [-0.41027881 -0.03864922 -0.39341293]\n",
      "2.90785300963e-06 [-0.41143986 -0.03808315 -0.39310287]\n",
      "1.94539446237e-06 [-0.41207731 -0.03851303 -0.3934714 ]\n",
      "4.06517824238e-06 [-0.4131956  -0.03779556 -0.39304707]\n",
      "1.44184234999e-06 [-0.41351532 -0.03809666 -0.39329444]\n",
      "1.3555613552e-06 [-0.41410277 -0.03816667 -0.3933967 ]\n",
      "1.46287563714e-06 [-0.41522985 -0.03789255 -0.39329614]\n",
      "6.67068615331e-06 [-0.41754195 -0.03835629 -0.39383527]\n",
      "1.40375714545e-06 [-0.41777018 -0.03785829 -0.39349347]\n",
      "1.24792755526e-06 [-0.41829464 -0.03761565 -0.39336308]\n",
      "1.51982374772e-06 [-0.41939099 -0.03773169 -0.39354332]\n",
      "2.99573165593e-06 [-0.42040255 -0.03712247 -0.39318918]\n",
      "1.16083478013e-06 [-0.42068875 -0.03737258 -0.39339599]\n",
      "1.09731947128e-06 [-0.42121756 -0.03742802 -0.39348252]\n",
      "1.16782353514e-06 [-0.42223446 -0.03719076 -0.39339916]\n",
      "4.80021693307e-06 [-0.42431444 -0.03756427 -0.39385244]\n",
      "1.11716580447e-06 [-0.42452304 -0.03714599 -0.39356689]\n",
      "1.00506109762e-06 [-0.42499691 -0.03693891 -0.39345797]\n",
      "1.1902205484e-06 [-0.42598381 -0.03702884 -0.39360965]\n",
      "2.21015778237e-06 [-0.42689878 -0.03651288 -0.39331498]\n",
      "1.35781538869e-06 [-0.42741121 -0.03692622 -0.39366009]\n",
      "1.03770789013e-06 [-0.42785096 -0.03659975 -0.39346137]\n",
      "1.68472273159e-06 [-0.42880629 -0.03684068 -0.39372023]\n",
      "1.1305094574e-06 [-0.42922656 -0.03642397 -0.39345394]\n",
      "2.29043522638e-06 [-0.43017028 -0.03677674 -0.39379371]\n",
      "8.50300476483e-07 [-0.43036946 -0.03650876 -0.39361576]\n",
      "7.99820042609e-07 [-0.43080255 -0.03636519 -0.39354946]\n",
      "8.58743055497e-07 [-0.43169103 -0.03639332 -0.39364759]\n",
      "3.78279044875e-06 [-0.43336972 -0.03569508 -0.3932878 ]\n",
      "8.21744400706e-07 [-0.43361163 -0.03602612 -0.39354916]\n",
      "7.33813693154e-07 [-0.43404111 -0.03612287 -0.39365696]\n",
      "8.7997518427e-07 [-0.43485189 -0.03587024 -0.39354456]\n",
      "1.67068204771e-06 [-0.43569964 -0.03615636 -0.39382641]\n",
      "1.00580552989e-06 [-0.43606204 -0.03570872 -0.39353324]\n",
      "7.60370274469e-07 [-0.43648183 -0.03591191 -0.39371747]\n",
      "1.25238899076e-06 [-0.43724242 -0.03553791 -0.39351254]\n",
      "8.30679699438e-07 [-0.43766016 -0.0358208  -0.39375452]\n",
      "1.70637904507e-06 [-0.43839339 -0.03535429 -0.39347987]\n",
      "6.19517324182e-07 [-0.43860252 -0.03554812 -0.39363907]\n",
      "5.81840819157e-07 [-0.4389875  -0.03559443 -0.39370635]\n",
      "6.2585386936e-07 [-0.43972618 -0.03541565 -0.39364129]\n",
      "2.77533096898e-06 [-0.44124062 -0.03571319 -0.39398966]\n",
      "6.01855751485e-07 [-0.44139077 -0.0353926  -0.39377026]\n",
      "5.34807908009e-07 [-0.44173455 -0.03523422 -0.39368544]\n",
      "6.45291225599e-07 [-0.44245277 -0.03530793 -0.39380179]\n",
      "1.24027986281e-06 [-0.44311643 -0.03491597 -0.39357548]\n",
      "7.39418914714e-07 [-0.4434905  -0.03523355 -0.39383869]\n",
      "5.54837865984e-07 [-0.44380943 -0.03498765 -0.39368812]\n",
      "9.17518446741e-07 [-0.44450471 -0.03517123 -0.39388237]\n",
      "6.04781073419e-07 [-0.44480953 -0.03486018 -0.39368308]\n",
      "1.23939080177e-06 [-0.44549626 -0.03512397 -0.39393526]\n",
      "4.51238045331e-07 [-0.44564078 -0.03492585 -0.39380365]\n",
      "4.23229895717e-07 [-0.44595547 -0.03481945 -0.39375403]\n",
      "4.55762072811e-07 [-0.44660157 -0.03484174 -0.39382672]\n",
      "2.04204699543e-06 [-0.44782148 -0.03432774 -0.39356086]\n",
      "4.37689933675e-07 [-0.44799764 -0.03457186 -0.39375322]\n",
      "3.88745919823e-07 [-0.44831013 -0.03464486 -0.39383351]\n",
      "4.68434825407e-07 [-0.4488994  -0.03445892 -0.39375025]\n",
      "8.95091063991e-07 [-0.44951609 -0.03467097 -0.39395802]\n",
      "5.33394011311e-07 [-0.4497793  -0.03434219 -0.39374262]\n",
      "4.01591284148e-07 [-0.45008456 -0.03449077 -0.39387711]\n",
      "6.57809321008e-07 [-0.45063762 -0.03421934 -0.39372864]\n",
      "4.35957780624e-07 [-0.45094119 -0.03442364 -0.39390346]\n",
      "8.82429896331e-07 [-0.45147465 -0.03408806 -0.39370659]\n",
      "3.27216110739e-07 [-0.45162645 -0.03422645 -0.39382042]\n",
      "3.07370460223e-07 [-0.45190631 -0.03425979 -0.39386908]\n",
      "3.29566698086e-07 [-0.45244348 -0.03413072 -0.39382253]\n",
      "1.42450004781e-06 [-0.45354408 -0.03434207 -0.39407206]\n",
      "3.17115887863e-07 [-0.45365364 -0.03411288 -0.39391553]\n",
      "2.82147109239e-07 [-0.4539037  -0.03399868 -0.39385462]\n",
      "3.37827352196e-07 [-0.45442573 -0.03405054 -0.39393794]\n",
      "6.37076385191e-07 [-0.45490871 -0.03377014 -0.39377691]\n",
      "3.82562344817e-07 [-0.45518013 -0.03399519 -0.39396388]\n",
      "2.89792074896e-07 [-0.45541245 -0.03382083 -0.39385775]\n",
      "4.66664318912e-07 [-0.45591738 -0.03394805 -0.39399432]\n",
      "3.1226016238e-07 [-0.45613972 -0.03372936 -0.39385504]\n",
      "6.17022883627e-07 [-0.45663808 -0.03391103 -0.39403081]\n",
      "2.3723122626e-07 [-0.45674373 -0.03377289 -0.39393958]\n",
      "2.23217997873e-07 [-0.45697273 -0.03369758 -0.39390505]\n",
      "2.3820692273e-07 [-0.45744226 -0.03371103 -0.39395589]\n",
      "9.95349413889e-07 [-0.4583305  -0.03335028 -0.39377227]\n",
      "2.2862490388e-07 [-0.45845771 -0.03351858 -0.39390532]\n",
      "2.04418994052e-07 [-0.45868464 -0.03356865 -0.39396148]\n",
      "2.41992502599e-07 [-0.4591135  -0.03343753 -0.39390398]\n",
      "4.44625436766e-07 [-0.45956101 -0.03358228 -0.3940481 ]\n",
      "2.70956971671e-07 [-0.45975343 -0.03335411 -0.39389955]\n",
      "2.08060614812e-07 [-0.45997473 -0.03345508 -0.39399213]\n",
      "3.26393183085e-07 [-0.46037774 -0.03326691 -0.39389098]\n",
      "2.2233406208e-07 [-0.46059749 -0.03340496 -0.39401036]\n",
      "4.25823066184e-07 [-0.46098666 -0.03317444 -0.39387718]\n",
      "2.52332281447e-07 [-0.46120597 -0.03336036 -0.39403143]\n",
      "1.89558908021e-07 [-0.46139316 -0.03321754 -0.393944  ]\n",
      "3.08050342048e-07 [-0.4618006  -0.03332224 -0.39405619]\n",
      "2.04412108082e-07 [-0.46197978 -0.03314393 -0.39394168]\n",
      "4.06708781435e-07 [-0.46238185 -0.03329187 -0.39408614]\n",
      "1.5463527288e-07 [-0.46246704 -0.03318002 -0.39401097]\n",
      "1.45305039598e-07 [-0.4626517  -0.03311868 -0.39398274]\n",
      "1.55319224133e-07 [-0.46303047 -0.03313012 -0.3940241 ]\n",
      "6.5615365147e-07 [-0.4637467  -0.03283683 -0.39387489]\n",
      "1.49292524898e-07 [-0.46384944 -0.03297401 -0.39398275]\n",
      "1.33146845901e-07 [-0.46403255 -0.03301515 -0.39402862]\n",
      "1.58065836748e-07 [-0.4643784  -0.03290869 -0.39398173]\n",
      "2.91800946592e-07 [-0.46473948 -0.03302676 -0.394099  ]\n",
      "1.76872332545e-07 [-0.46489458 -0.03284154 -0.39397822]\n",
      "1.35460718479e-07 [-0.46507311 -0.03292341 -0.39405334]\n",
      "2.12523470333e-07 [-0.46539818 -0.03277151 -0.39397139]\n",
      "1.44529625327e-07 [-0.4655754  -0.03288276 -0.39406806]\n",
      "2.75984520772e-07 [-0.4658894  -0.03269753 -0.39396023]\n",
      "1.63500474675e-07 [-0.46606615 -0.0328463  -0.39408521]\n",
      "1.23001190345e-07 [-0.46621729 -0.03273237 -0.39401412]\n",
      "1.98647331265e-07 [-0.46654566 -0.03281441 -0.39410599]\n",
      "1.32269035855e-07 [-0.46669058 -0.03267404 -0.39401135]\n",
      "2.61155085882e-07 [-0.46701415 -0.03278694 -0.3941331 ]\n",
      "1.00472190719e-07 [-0.46708341 -0.03270137 -0.39406827]\n",
      "9.44798676329e-08 [-0.46723237 -0.0326521  -0.39404591]\n",
      "1.00746199865e-07 [-0.46753787 -0.0326611  -0.39407859]\n",
      "4.17325549229e-07 [-0.46811564 -0.03242533 -0.39396204]\n",
      "9.68379934221e-08 [-0.46819851 -0.03253565 -0.39404596]\n",
      "8.65045344729e-08 [-0.46834615 -0.0325683  -0.39408264]\n",
      "1.02190958626e-07 [-0.46862521 -0.03248324 -0.39404524]\n",
      "1.86510855456e-07 [-0.46891626 -0.03257649 -0.39413896]\n",
      "1.13756911442e-07 [-0.46904162 -0.03242953 -0.39404243]\n",
      "8.76179890311e-08 [-0.46918544 -0.03249378 -0.39410265]\n",
      "1.35672654148e-07 [-0.46944793 -0.03237396 -0.39403661]\n",
      "9.30538837059e-08 [-0.46959052 -0.03246022 -0.39411501]\n",
      "1.74785913171e-07 [-0.4698444  -0.03231644 -0.394026  ]\n",
      "1.04772420094e-07 [-0.46998614 -0.03242886 -0.39413073]\n",
      "7.96522157744e-08 [-0.4701088  -0.03234359 -0.39406845]\n",
      "1.2893828176e-07 [-0.47037228 -0.03239765 -0.39415394]\n",
      "8.82232570325e-08 [-0.47049122 -0.032302   -0.3940594 ]\n",
      "1.9624972431e-07 [-0.47074821 -0.03235904 -0.39419698]\n",
      "6.51285479793e-08 [-0.47080708 -0.03231538 -0.39411396]\n",
      "6.13897728473e-08 [-0.47092722 -0.03227562 -0.39409757]\n",
      "6.51823106082e-08 [-0.47117375 -0.03228354 -0.39412099]\n",
      "2.62598183485e-07 [-0.471639   -0.03208774 -0.39404395]\n",
      "6.24933815449e-08 [-0.47170664 -0.03218263 -0.39409716]\n",
      "5.60958290635e-08 [-0.4718256  -0.03220755 -0.39412636]\n",
      "6.55689256148e-08 [-0.4720509  -0.03214096 -0.39409635]\n",
      "1.16911502851e-07 [-0.47228515 -0.03221113 -0.39417232]\n",
      "7.24862549962e-08 [-0.47238695 -0.03209905 -0.39409295]\n",
      "5.65484363223e-08 [-0.47250239 -0.03214564 -0.39414416]\n",
      "8.67025035061e-08 [-0.47271514 -0.03205802 -0.39408411]\n",
      "6.09661954669e-08 [-0.4728287  -0.03211487 -0.3941586 ]\n",
      "1.22616885533e-07 [-0.47303628 -0.03202274 -0.3940617 ]\n",
      "4.69298688574e-08 [-0.47309138 -0.03205055 -0.39412377]\n",
      "4.44904150943e-08 [-0.47319801 -0.03206124 -0.39413955]\n",
      "4.66497876298e-08 [-0.47340317 -0.03201416 -0.39412611]\n",
      "1.68457843952e-07 [-0.47382266 -0.03208694 -0.39419914]\n",
      "4.46090028074e-08 [-0.47386465 -0.03200337 -0.39415694]\n",
      "4.04987106592e-08 [-0.47396049 -0.03196408 -0.39413637]\n",
      "4.62586919527e-08 [-0.47415918 -0.03197823 -0.39416507]\n",
      "7.821228473e-08 [-0.47434479 -0.03188446 -0.39411017]\n",
      "5.03073360394e-08 [-0.47444684 -0.03195473 -0.39417499]\n",
      "1.04310063569e-07 [-0.47462634 -0.0318433  -0.39409968]\n",
      "3.72030422702e-08 [-0.47467702 -0.03188768 -0.39414419]\n",
      "3.47649283443e-08 [-0.47477115 -0.03190006 -0.39416112]\n",
      "3.74907205486e-08 [-0.4749515  -0.03185549 -0.39414522]\n",
      "1.68137261592e-07 [-0.47532176 -0.03193167 -0.39422927]\n",
      "3.62409488125e-08 [-0.47535821 -0.03185116 -0.39417733]\n",
      "3.19623605345e-08 [-0.47544212 -0.03181164 -0.39415594]\n",
      "3.85766334185e-08 [-0.47561759 -0.03183003 -0.39418486]\n",
      "7.350188291e-08 [-0.47577974 -0.03173429 -0.39412902]\n",
      "4.34081415433e-08 [-0.47587099 -0.03181095 -0.39419362]\n",
      "3.26833065703e-08 [-0.47594909 -0.03175252 -0.39415701]\n",
      "5.22834366466e-08 [-0.47611858 -0.03179403 -0.39420428]\n",
      "3.4958197739e-08 [-0.47619354 -0.03172275 -0.3941556 ]\n",
      "6.79966608839e-08 [-0.47636042 -0.03177898 -0.39421843]\n",
      "2.67422809521e-08 [-0.47639634 -0.03173618 -0.39418483]\n",
      "2.51731628777e-08 [-0.47647329 -0.03171096 -0.39417352]\n",
      "2.67388580439e-08 [-0.47663102 -0.03171529 -0.39419004]\n",
      "1.07194340183e-07 [-0.47692954 -0.03159509 -0.39413176]\n",
      "2.57082914364e-08 [-0.47697224 -0.03165097 -0.39417364]\n",
      "2.30187062936e-08 [-0.47704845 -0.03166743 -0.39419231]\n",
      "2.69769603638e-08 [-0.47719262 -0.03162412 -0.39417341]\n",
      "4.82995878201e-08 [-0.47734279 -0.03167077 -0.39422087]\n",
      "2.9758616795e-08 [-0.4774077  -0.03159671 -0.39417212]\n",
      "2.31379058653e-08 [-0.47748185 -0.03162859 -0.39420254]\n",
      "3.50189554484e-08 [-0.4776176  -0.03156858 -0.39416922]\n",
      "2.4373274447e-08 [-0.47769101 -0.03161086 -0.39420895]\n",
      "4.44328416056e-08 [-0.47782246 -0.03153993 -0.39416354]\n",
      "2.71867864314e-08 [-0.47789523 -0.03159381 -0.39421748]\n",
      "2.10419948979e-08 [-0.47795892 -0.03155303 -0.39418467]\n",
      "3.39616851444e-08 [-0.47809442 -0.03157563 -0.39423128]\n",
      "2.42151555793e-08 [-0.47815665 -0.03153349 -0.39417798]\n",
      "2.07842023593e-08 [-0.47822227 -0.03154174 -0.39421896]\n",
      "4.71106102397e-08 [-0.47835085 -0.03152348 -0.39415637]\n",
      "1.63359331642e-08 [-0.47838145 -0.03151661 -0.39420066]\n",
      "1.58539089398e-08 [-0.47844511 -0.03151854 -0.39420592]\n",
      "1.58869436834e-08 [-0.47856881 -0.03149519 -0.39420338]\n",
      "3.47977639868e-08 [-0.47881916 -0.03151901 -0.39422086]\n",
      "2.40094982713e-08 [-0.47887158 -0.03144278 -0.39420903]\n",
      "2.03506191198e-08 [-0.47893567 -0.03148619 -0.39420589]\n",
      "1.91725989403e-08 [-0.47899014 -0.03144259 -0.39422075]\n",
      "1.88721096497e-08 [-0.47905163 -0.03146758 -0.39420105]\n",
      "1.88953506889e-08 [-0.47910608 -0.03143434 -0.3942265 ]\n",
      "1.90526030244e-08 [-0.4791662  -0.03145404 -0.39419965]\n",
      "1.92794246206e-08 [-0.47921994 -0.03142337 -0.39423023]\n",
      "1.95554476218e-08 [-0.47927913 -0.03144242 -0.39419937]\n",
      "1.98749637997e-08 [-0.4793319  -0.03141155 -0.3942333 ]\n",
      "2.02382324417e-08 [-0.47939035 -0.03143162 -0.3941994 ]\n",
      "2.06468647922e-08 [-0.47944207 -0.0313995  -0.39423619]\n",
      "2.11040398497e-08 [-0.47949985 -0.03142126 -0.39419946]\n",
      "2.16125876226e-08 [-0.47955048 -0.03138744 -0.39423907]\n",
      "2.21765693153e-08 [-0.47960764 -0.03141123 -0.39419945]\n",
      "2.27993526735e-08 [-0.47965717 -0.03137544 -0.39424199]\n",
      "1.11762033217e-08 [-0.47968546 -0.03138845 -0.39422066]\n",
      "1.10007797451e-08 [-0.47973796 -0.03138249 -0.39422216]\n",
      "1.06912208267e-08 [-0.47984241 -0.03137299 -0.39422191]\n",
      "1.19874874148e-08 [-0.48004685 -0.03134465 -0.39423477]\n",
      "2.85535304158e-08 [-0.48014943 -0.03136055 -0.39419996]\n",
      "9.60724379689e-09 [-0.48017146 -0.03133798 -0.39422806]\n",
      "[-0.03133798 -0.39422806] -0.480171464761\n"
     ]
    },
    {
     "data": {
      "text/plain": [
       "<logreg.LogisticRegression at 0x115f7e9b0>"
      ]
     },
     "execution_count": 5,
     "metadata": {},
     "output_type": "execute_result"
    }
   ],
   "source": [
    "import logreg as lg\n",
    "lo = lg.LogisticRegression(tol=1e-8,gamma=0.1)\n",
    "lo.fit(X,y)"
   ]
  },
  {
   "cell_type": "code",
   "execution_count": 6,
   "metadata": {
    "collapsed": false
   },
   "outputs": [
    {
     "name": "stdout",
     "output_type": "stream",
     "text": [
      "0.0203459542497 0.979833661569\n"
     ]
    },
    {
     "data": {
      "text/plain": [
       "1.0"
      ]
     },
     "execution_count": 6,
     "metadata": {},
     "output_type": "execute_result"
    }
   ],
   "source": [
    "lo.score(X,y)"
   ]
  },
  {
   "cell_type": "code",
   "execution_count": 9,
   "metadata": {
    "collapsed": false
   },
   "outputs": [
    {
     "name": "stdout",
     "output_type": "stream",
     "text": [
      "[[-0.07990164 -0.38884779]] [-0.00768497] [-0.03133798 -0.39422806] -0.480171464761\n"
     ]
    }
   ],
   "source": [
    "reglog = LogisticRegressionSKL(C=1/float(n),tol=1e-10)\n",
    "reglog.fit(X,y)\n",
    "print(reglog.coef_,reglog.intercept_,lo.coeff,lo.intercept)"
   ]
  },
  {
   "cell_type": "code",
   "execution_count": 10,
   "metadata": {
    "collapsed": false
   },
   "outputs": [
    {
     "data": {
      "image/png": "[encoded data removed]",
      "text/plain": [
       "<matplotlib.figure.Figure at 0x11845bda0>"
      ]
     },
     "metadata": {},
     "output_type": "display_data"
    }
   ],
   "source": [
    "plt.figure(figsize=(16,8))\n",
    "A = X[y==-1]\n",
    "B = X[y==1]\n",
    "plt.plot(A[:,0],A[:,1],'.',label='Negative Example',color='#AA0000')\n",
    "plt.plot(B[:,0],B[:,1],'.',label='Positive Example',color='#00AA00')\n",
    "plt.legend(loc='best')\n",
    "plt.title('Toy Data')\n",
    "x = np.linspace(-10,15)\n",
    "plt.plot(x, -lo.coeff[0]*x/lo.coeff[1]-lo.intercept/lo.coeff[1]);\n",
    "plt.plot(x, -reglog.coef_[0][0]*x/reglog.coef_[0][1]-reglog.intercept_[0]/reglog.coef_[0][1],color='green');\n",
    "plt.show()"
   ]
  },
  {
   "cell_type": "code",
   "execution_count": 41,
   "metadata": {
    "collapsed": false
   },
   "outputs": [
    {
     "data": {
      "text/plain": [
       "array([-0.74916523,  0.63572601])"
      ]
     },
     "execution_count": 41,
     "metadata": {},
     "output_type": "execute_result"
    }
   ],
   "source": [
    "A[1,:]"
   ]
  },
  {
   "cell_type": "code",
   "execution_count": null,
   "metadata": {
    "collapsed": false
   },
   "outputs": [],
   "source": [
    "data_test = ut.load_comments(test_fname, test = True)"
   ]
  },
  {
   "cell_type": "code",
   "execution_count": null,
   "metadata": {
    "collapsed": false
   },
   "outputs": [],
   "source": [
    "data_test = ut.process(data_test)"
   ]
  },
  {
   "cell_type": "code",
   "execution_count": null,
   "metadata": {
    "collapsed": false
   },
   "outputs": [],
   "source": [
    "X_test = ut.get_features(data_test)"
   ]
  },
  {
   "cell_type": "code",
   "execution_count": null,
   "metadata": {
    "collapsed": false
   },
   "outputs": [],
   "source": [
    "#y_pred = logreg.predict(X_test)\n",
    "y_pred = logreg.predict(X_test)\n",
    "np.savetxt('y_pred.txt', y_pred, fmt='%s')\n",
    "y_pred"
   ]
  }
 ],
 "metadata": {
  "kernelspec": {
   "display_name": "Python 3",
   "language": "python",
   "name": "python3"
  },
  "language_info": {
   "codemirror_mode": {
    "name": "ipython",
    "version": 3
   },
   "file_extension": ".py",
   "mimetype": "text/x-python",
   "name": "python",
   "nbconvert_exporter": "python",
   "pygments_lexer": "ipython3",
   "version": "3.5.1"
  }
 },
 "nbformat": 4,
 "nbformat_minor": 0
}
