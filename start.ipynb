{
 "cells": [
  {
   "cell_type": "markdown",
   "metadata": {},
   "source": [
    "# Prédiction de la valence d'un commentaire\n",
    "\n",
    "auteur : Alexandre Gramfort, challenge SD207 2015-2016\n",
    "\n",
    "L'objectif est de prédire la valence d'un commentaire sur un site web. Est-ce un commentaire injurieux ou non?\n",
    "\n",
    "Il s'agit d'un problème classification binaire qui prend en entrée du texte brut.\n",
    "\n",
    "### Critère de performance\n",
    "\n",
    "Le critère de performance retenu pour l'évaluation de ce modèle est l'accuracy (pourcentage de bonnes predictions).\n",
    "\n",
    "Données d'apprentissage: https://dl.dropboxusercontent.com/u/2140486/challenges/text/train.csv\n",
    "\n",
    "Données de validation: https://dl.dropboxusercontent.com/u/2140486/challenges/text/test.csv\n",
    "\n",
    "Vous trouverez ci-dessous un exemple de prédiction sur ces données."
   ]
  },
  {
   "cell_type": "code",
   "execution_count": 2,
   "metadata": {
    "collapsed": true
   },
   "outputs": [],
   "source": [
    "%matplotlib inline\n",
    "import numpy as np\n",
    "import matplotlib.pyplot as plt\n",
    "import pandas as pd"
   ]
  },
  {
   "cell_type": "code",
   "execution_count": 3,
   "metadata": {
    "collapsed": false
   },
   "outputs": [],
   "source": [
    "train_fname = 'train.csv'\n",
    "test_fname = 'test.csv'"
   ]
  },
  {
   "cell_type": "code",
   "execution_count": 4,
   "metadata": {
    "collapsed": false
   },
   "outputs": [
    {
     "name": "stdout",
     "output_type": "stream",
     "text": [
      "0,\"\"\"Imagine being able say, you know what, no sanctions, no forever hearings on IEAA regulations, no more hiding\\xa0under\\xa0the pretense of friendly nuclear energy. \\xa0You have 2 days to; \\xa0i.e. \\xa0let in the inspectors, quit killing the civilians, respect the border and rights of your neighboring country, \\xa0or we ( whoever we are) will shut off your nuclear plant, your monitoring system and whatever else we fancy, like your water\\xa0treatment\\xa0plants and early warning sandstorm system and the traffic lights of all major cities...\\xa0\\nand yes..( pinky finger to lip edge) so your teenagers revolt and topple your regime... \\xa0disconnect ... FACEBOOK.... buwhahjahahaha.\"\"\"\r\n",
      "0,\"\"\"\"\"But Jack from Raleigh wasn't done. He came back with this bit of furious grammatical genius:\"\"\\n\"\"Holy hell, Jack. Calm down.\"\"\\n\\nGOD D@MN HILARIOUS!\\n\\nWho writes your material GraziD?  \\n\\nMM never even acknowledged we were here (well accept when Uber ticked him off)  GraziD not only interacts with us, he calls you dumb when you're being dumb... right beeaner?\"\"\"\r\n",
      "0,\"\"\"the Star box allows you to link your comment to Facebook and Twitter. You can go to your profile and change settings. If you click back on yellow star it will return to grey\"\"\"\r\n"
     ]
    }
   ],
   "source": [
    "!head -3 train.csv"
   ]
  },
  {
   "cell_type": "code",
   "execution_count": 5,
   "metadata": {
    "collapsed": false
   },
   "outputs": [
    {
     "name": "stdout",
     "output_type": "stream",
     "text": [
      "\"\"\"Where's all the Ron Paul trolls, to defend this\\xa0piece of shit?\"\"\"\r\n",
      "\"\"\"Thanks for your comment. Of course, I don't mind. Cute away.\"\"\"\r\n",
      "\"\"\"At this moment your toes are touching each other.\"\"\"\r\n"
     ]
    }
   ],
   "source": [
    "!head -3 test.csv"
   ]
  },
  {
   "cell_type": "markdown",
   "metadata": {},
   "source": [
    "Read train data"
   ]
  },
  {
   "cell_type": "code",
   "execution_count": 6,
   "metadata": {
    "collapsed": false
   },
   "outputs": [
    {
     "name": "stdout",
     "output_type": "stream",
     "text": [
      "n_samples : 4415\n"
     ]
    }
   ],
   "source": [
    "X = []\n",
    "y = []\n",
    "with open(train_fname) as f:\n",
    "    for line in f:\n",
    "        y.append(int(line[0]))\n",
    "        X.append(line[5:-6])\n",
    "y = np.array(y)\n",
    "\n",
    "print('n_samples : %d' % len(X))"
   ]
  },
  {
   "cell_type": "code",
   "execution_count": 7,
   "metadata": {
    "collapsed": false
   },
   "outputs": [
    {
     "data": {
      "text/plain": [
       "['Imagine being able say, you know what, no sanctions, no forever hearings on IEAA regulations, no more hiding\\\\xa0under\\\\xa0the pretense of friendly nuclear energy. \\\\xa0You have 2 days to; \\\\xa0i.e. \\\\xa0let in the inspectors, quit killing the civilians, respect the border and rights of your neighboring country, \\\\xa0or we ( whoever we are) will shut off your nuclear plant, your monitoring system and whatever else we fancy, like your water\\\\xa0treatment\\\\xa0plants and early warning sandstorm system and the traffic lights of all major cities...\\\\xa0\\\\nand yes..( pinky finger to lip edge) so your teenagers revolt and topple your regime... \\\\xa0disconnect ... FACEBOOK.... buwhahjahahah',\n",
       " '\"\"But Jack from Raleigh wasn\\'t done. He came back with this bit of furious grammatical genius:\"\"\\\\n\"\"Holy hell, Jack. Calm down.\"\"\\\\n\\\\nGOD D@MN HILARIOUS!\\\\n\\\\nWho writes your material GraziD?  \\\\n\\\\nMM never even acknowledged we were here (well accept when Uber ticked him off)  GraziD not only interacts with us, he calls you dumb when you\\'re being dumb... right beeane']"
      ]
     },
     "execution_count": 7,
     "metadata": {},
     "output_type": "execute_result"
    }
   ],
   "source": [
    "X[:2]"
   ]
  },
  {
   "cell_type": "code",
   "execution_count": 8,
   "metadata": {
    "collapsed": false
   },
   "outputs": [
    {
     "name": "stdout",
     "output_type": "stream",
     "text": [
      "Le taux de prédiction au niveau de la chance est : 0.694450736127\n"
     ]
    }
   ],
   "source": [
    "print(\"Le taux de prédiction au niveau de la chance est : %s\" % np.mean(y == 0))"
   ]
  },
  {
   "cell_type": "markdown",
   "metadata": {},
   "source": [
    "Read test data"
   ]
  },
  {
   "cell_type": "code",
   "execution_count": 9,
   "metadata": {
    "collapsed": false
   },
   "outputs": [
    {
     "name": "stdout",
     "output_type": "stream",
     "text": [
      "n_samples_test : 4414\n"
     ]
    }
   ],
   "source": [
    "X_test = []\n",
    "with open(test_fname) as f:\n",
    "    for line in f:\n",
    "        X_test.append(line[3:-6])\n",
    "\n",
    "print('n_samples_test : %d' % len(X_test))"
   ]
  },
  {
   "cell_type": "code",
   "execution_count": 10,
   "metadata": {
    "collapsed": false
   },
   "outputs": [
    {
     "data": {
      "text/plain": [
       "[\"Where's all the Ron Paul trolls, to defend this\\\\xa0piece of shi\",\n",
       " \"Thanks for your comment. Of course, I don't mind. Cute awa\"]"
      ]
     },
     "execution_count": 10,
     "metadata": {},
     "output_type": "execute_result"
    }
   ],
   "source": [
    "X_test[:2]"
   ]
  },
  {
   "cell_type": "markdown",
   "metadata": {},
   "source": [
    "Extraction d'une feature (très naive?) basée sur la longeur des commentaires"
   ]
  },
  {
   "cell_type": "code",
   "execution_count": 11,
   "metadata": {
    "collapsed": true
   },
   "outputs": [],
   "source": [
    "char_counts = np.array([len(x) for x in X])"
   ]
  },
  {
   "cell_type": "markdown",
   "metadata": {},
   "source": [
    "Un peu d'exploration avec Pandas"
   ]
  },
  {
   "cell_type": "code",
   "execution_count": 12,
   "metadata": {
    "collapsed": false
   },
   "outputs": [
    {
     "data": {
      "text/html": [
       "<div>\n",
       "<table border=\"1\" class=\"dataframe\">\n",
       "  <thead>\n",
       "    <tr style=\"text-align: right;\">\n",
       "      <th></th>\n",
       "      <th>char_counts</th>\n",
       "      <th>label</th>\n",
       "    </tr>\n",
       "  </thead>\n",
       "  <tbody>\n",
       "    <tr>\n",
       "      <th>0</th>\n",
       "      <td>680</td>\n",
       "      <td>0</td>\n",
       "    </tr>\n",
       "    <tr>\n",
       "      <th>1</th>\n",
       "      <td>365</td>\n",
       "      <td>0</td>\n",
       "    </tr>\n",
       "    <tr>\n",
       "      <th>2</th>\n",
       "      <td>171</td>\n",
       "      <td>0</td>\n",
       "    </tr>\n",
       "    <tr>\n",
       "      <th>3</th>\n",
       "      <td>37</td>\n",
       "      <td>0</td>\n",
       "    </tr>\n",
       "    <tr>\n",
       "      <th>4</th>\n",
       "      <td>177</td>\n",
       "      <td>0</td>\n",
       "    </tr>\n",
       "  </tbody>\n",
       "</table>\n",
       "</div>"
      ],
      "text/plain": [
       "   char_counts  label\n",
       "0          680      0\n",
       "1          365      0\n",
       "2          171      0\n",
       "3           37      0\n",
       "4          177      0"
      ]
     },
     "execution_count": 12,
     "metadata": {},
     "output_type": "execute_result"
    }
   ],
   "source": [
    "import pandas as pd\n",
    "df = pd.DataFrame(dict(label=y, char_counts=char_counts))\n",
    "df.head(5)"
   ]
  },
  {
   "cell_type": "code",
   "execution_count": 15,
   "metadata": {
    "collapsed": false
   },
   "outputs": [
    {
     "data": {
      "image/png": "[encoded data removed]",
      "text/plain": [
       "<matplotlib.figure.Figure at 0x11462aa10>"
      ]
     },
     "metadata": {},
     "output_type": "display_data"
    }
   ],
   "source": [
    "import seaborn as sns\n",
    "ax = sns.barplot(x=\"label\", y=\"char_counts\", data=df)"
   ]
  },
  {
   "cell_type": "markdown",
   "metadata": {},
   "source": [
    "On voit qu'il y a une légere différence de longueur des commentaires en fonction de y."
   ]
  },
  {
   "cell_type": "markdown",
   "metadata": {},
   "source": [
    "Exraction des features sur le test"
   ]
  },
  {
   "cell_type": "code",
   "execution_count": 16,
   "metadata": {
    "collapsed": false
   },
   "outputs": [],
   "source": [
    "char_counts_test = np.array([len(x) for x in X_test])\n",
    "y_pred = (char_counts_test < 60).astype(np.int)"
   ]
  },
  {
   "cell_type": "code",
   "execution_count": 15,
   "metadata": {
    "collapsed": false
   },
   "outputs": [],
   "source": [
    "np.savetxt('y_pred.txt', y_pred, fmt='%s')"
   ]
  },
  {
   "cell_type": "code",
   "execution_count": 16,
   "metadata": {
    "collapsed": false
   },
   "outputs": [
    {
     "name": "stdout",
     "output_type": "stream",
     "text": [
      "0\r\n",
      "1\r\n",
      "1\r\n",
      "0\r\n",
      "0\r\n",
      "0\r\n",
      "1\r\n",
      "0\r\n",
      "1\r\n",
      "1\r\n"
     ]
    }
   ],
   "source": [
    "!head y_pred.txt"
   ]
  },
  {
   "cell_type": "markdown",
   "metadata": {},
   "source": [
    "Vous pouvez maintenant uploader votre fichier `y_pred.txt` sur le site.\n",
    "\n",
    "Bonne chance !"
   ]
  }
 ],
 "metadata": {
  "kernelspec": {
   "display_name": "Python 2",
   "language": "python",
   "name": "python2"
  },
  "language_info": {
   "codemirror_mode": {
    "name": "ipython",
    "version": 2
   },
   "file_extension": ".py",
   "mimetype": "text/x-python",
   "name": "python",
   "nbconvert_exporter": "python",
   "pygments_lexer": "ipython2",
   "version": "2.7.11"
  }
 },
 "nbformat": 4,
 "nbformat_minor": 0
}
